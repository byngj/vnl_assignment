{
 "cells": [
  {
   "cell_type": "code",
   "execution_count": 53,
   "id": "bcf9e3e4",
   "metadata": {},
   "outputs": [],
   "source": [
    "import numpy as np\n",
    "import datasets\n",
    "import csv\n",
    "import matplotlib.pyplot as plt\n",
    "import tqdm"
   ]
  },
  {
   "cell_type": "code",
   "execution_count": null,
   "id": "30345d1f",
   "metadata": {},
   "outputs": [],
   "source": [
    "# prepare dataset\n",
    "dataset_nl = datasets.C100Dataset('./datasets/data/cifar100_nl.csv')\n",
    "[data_nl_tr_x, data_nl_tr_y, _, _] = dataset_nl.getDataset()\n",
    "dataset_nl_test = datasets.C100Dataset('./datasets/data/cifar100_nl_test.csv')\n",
    "[data_nl_ts_x, data_nl_ts_y, _, _] = dataset_nl_test.getDataset()"
   ]
  }
 ],
 "metadata": {
  "kernelspec": {
   "display_name": "Python 3 (ipykernel)",
   "language": "python",
   "name": "python3"
  },
  "language_info": {
   "codemirror_mode": {
    "name": "ipython",
    "version": 3
   },
   "file_extension": ".py",
   "mimetype": "text/x-python",
   "name": "python",
   "nbconvert_exporter": "python",
   "pygments_lexer": "ipython3",
   "version": "3.9.13"
  }
 },
 "nbformat": 4,
 "nbformat_minor": 5
}
